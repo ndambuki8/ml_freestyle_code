{
  "cells": [
    {
      "cell_type": "code",
      "execution_count": 1,
      "metadata": {},
      "outputs": [
        {
          "name": "stdout",
          "output_type": "stream",
          "text": [
            "Hello worldds\n"
          ]
        }
      ],
      "source": [
        "print(\"Hello worldds\")"
      ]
    },
    {
      "cell_type": "code",
      "execution_count": null,
      "metadata": {},
      "outputs": [],
      "source": [
        "https://www.youtube.com/watch?v=oLUrXDFiJAc"
      ]
    },
    {
      "cell_type": "markdown",
      "metadata": {},
      "source": [
        "# How do LLMs learn while predicting the next token?"
      ]
    },
    {
      "cell_type": "markdown",
      "metadata": {},
      "source": [
        "## The Deceptive Simplicity of Next-Token Prediction"
      ]
    },
    {
      "cell_type": "markdown",
      "metadata": {},
      "source": [
        "## The MMechanics of Token Prediction - minimal implementation of the Transformer Language model"
      ]
    },
    {
      "cell_type": "code",
      "execution_count": null,
      "metadata": {},
      "outputs": [],
      "source": [
        "import torch\n",
        "import torch.nn as nn\n",
        "import torch.nn.functional as F\n",
        "import math\n",
        "import numpy as np \n",
        "from torch.utils.data import Dataset, DataLoader\n",
        "\n",
        "class PositionalEncoding(nn.Module):\n",
        "    def __init__(self, d_model, max_len=5000):\n",
        "        super().__init__()\n",
        "\n",
        "        # Create position encodings once and for all\n",
        "        position = torch.arange(max_len).unsqueeze(1)\n",
        "        div_term = torch.exp(torch.arange(0, d_model, 2) * (-math.log(10000.0) / d_model))\n",
        "        pe = torch.zeros(max_len, d_model)\n",
        "        pe[:, 0::2] = torch.sin(position * div_term)\n",
        "        pe[:, 1::2] = torch.cos(position * div_term)\n",
        "        self.register_buffer('pe', pe)\n",
        "\n",
        "    def forward(self, x):\n",
        "        # x has shape [seq_len,, batch_size, embedding_dim]\n",
        "        return x + self.pe[:x.size(0), :]\n",
        "    \n",
        "class TransformerLM(nn.Module):\n",
        "    def __init__(self, vocab_size, d_model=512, nhead=8, num_layers=6, dim_feedforward=2048, droupout=0.1):\n",
        "        super().__init__()\n",
        "        self.model_type = 'Transformer'\n",
        "        self.d_model = d_model\n",
        "\n",
        "        self.embedding = nn.Embedding(vocab_size, d_model)\n",
        "        self.pos_encoder = PositionalEncoding(d_model)\n",
        "\n",
        "        # Create a standard transformer encoder \n",
        "        encoder_layers = nn.TransformerEncoderLayer(d_model, nhead, dim_feedforward, droupout)\n",
        "        self.transformer_encoder = nn.TransformerEncoder(encoder_layers, num_layers)\n",
        "\n",
        "        # Final layer to predict token probabilities \n",
        "        self.output_layer = nn.Linear(d_model, vocab_size)\n",
        "\n",
        "        self.init_weights()\n",
        "\n",
        "    def init_weights(self):\n",
        "        initrange =  0.1\n",
        "        self.embedding.weight.data.uniform_(-initrange, initrange)\n",
        "        self.output_layer.bias.data.zero_(-initrange, initrange)\n",
        "\n",
        "    def forward(Self, src, src_mask=None):\n",
        "        # src shape: [seq_len, batch_size]\n",
        "\n",
        "        # Create embeddings \n",
        "        src = self.embedding(src) * math.sqrt(self.d_model)\n",
        "        src = self.pos_encoder(src)\n",
        "\n",
        "        # Pass through transformer \n",
        "        if src_mask is None:\n",
        "            # Create a causal mask to prevent attending to future tokens\n",
        "            src_mask = nn.Transformer.generate_square_subsequent_mask(src.size(0))\n",
        "            src_mask = src_mask.to(src.device)\n",
        "\n",
        "        output =  self.transformer_encoder(src, src_mask)\n",
        "\n",
        "        # Project to vocabulary distribution\n",
        "        output = self.output_layer(output)\n",
        "\n",
        "        return output"
      ]
    },
    {
      "cell_type": "markdown",
      "metadata": {},
      "source": [
        "### The learning process, implementing the training loop - Maximizing log-likelihood, HHow does the LLM actually \"learn\""
      ]
    },
    {
      "cell_type": "code",
      "execution_count": null,
      "metadata": {},
      "outputs": [],
      "source": [
        "def train_transformer_lm(model, data_loader, optimizer,  criterion, device, clip_grad=1.0):\n",
        "    model.train()\n",
        "    total_loss = 0.\n",
        "    for batch_idx, (data, targets) in enumerate(data_loader):\n",
        "        data, ttargets = data.to(device), targets.to(device)\n",
        "\n",
        "        # Zero gradients from previous iteration \n",
        "        optimizer.zero_grad()\n",
        "\n",
        "        # Forward pass \n",
        "        output  = model(data)\n",
        "\n",
        "        # Reshape for loss computation \n",
        "        output = output.view(-1, output.size(-1))\n",
        "        targets = targets.vieww(-1)\n",
        "\n",
        "        # compute loss (negative, log-likelihood)\n",
        "        loss = criterion(output, targets)\n",
        "\n",
        "        # Backward pass \n",
        "        loss.backward()\n",
        "\n",
        "        # Clip gradients to prevent exploding gradients \n",
        "        torch.nn.utils.clilp_grad_norm_(model.parameters(), clip_grad)\n",
        "\n",
        "        # Update weights \n",
        "        optimizer.step()\n",
        "\n",
        "        total_loss += loss.item()\n",
        "\n",
        "        if batch_idx % 200 == 0:\n",
        "            print(f\"Batch {batch_idx}, Loss: {loss.item():.4f}\")\n",
        "\n",
        "    return total_loss / len(data_loader)"
      ]
    },
    {
      "cell_type": "markdown",
      "metadata": {},
      "source": [
        "### Emergent capabilities: Beyond Next-Token Prediction"
      ]
    },
    {
      "cell_type": "code",
      "execution_count": null,
      "metadata": {},
      "outputs": [],
      "source": [
        "def generate_text(model, start_sequence, max_new_tokens=50, temperature=1.0):\n",
        "    \"\"\"Generate text from the model, starting from the given sequence.\"\"\"\n",
        "    model.eval()\n",
        "\n",
        "    input_ids = torch.tensor(start_sequence, dtype=torch.long).unsqueeze(0)\n",
        "    generated_tokens = []\n",
        "\n",
        "    for _ in range(max_new_tokens):\n",
        "        # Prevent attending to future tokens\n",
        "        attn_mask = torch.tril(torch.ones((input_ids.size(1), input_ids.size(1))))\n",
        "\n",
        "        # Forward pass \n",
        "        with torch.no_grad():\n",
        "            outputs = model(input_ids, attn_mask)\n",
        "            next_token_logits = outputs[0, -1, :]\n",
        "\n",
        "            # Apply temperature sampling\n",
        "            if temperature > 0:\n",
        "                next_token_logits = next_token_logits / temperature\n",
        "\n",
        "            # Sample from the distribution \n",
        "            probs = F.softmax(next_token_logits, dim=-1)\n",
        "            next_token = torch.multinomial(probs, num_samples=1).item()\n",
        "\n",
        "            generated_tokens.append(next_token)\n",
        "\n",
        "            # Append the preducted token to input for next iteration\n",
        "            input_ids = torch.cat([input_ids, torch.tensor([[next_token]])], dim=1)\n",
        "    return generated_tokens\n",
        "    \n",
        "def analyze_activation_patterns(model, input_text, layer_idx= -1):\n",
        "    \"\"\"Analyze the internal activation patters for the given input.\"\"\"\n",
        "    model.eval()\n",
        "    input_ids = torch.tensor(input_text, dtype=torch.long).unsqueeze(0)\n",
        "\n",
        "    # Register hook to get activations \n",
        "    activations = {}\n",
        "    def get_activation(name):\n",
        "        def hook(model, input, output):\n",
        "            activations[name] = output.detach()\n",
        "        return hook\n",
        "    \n",
        "    # Attach hook to the specified transformer layer\n",
        "    model.transformer_encoder.layers[layer_idx].register_forward_hook(\n",
        "        get_activation(f'transformer_layer_{layer_idx}')\n",
        "    )\n",
        "\n",
        "    # Forward pass \n",
        "    with torch.no_grad():\n",
        "        model(input_ids)\n",
        "\n",
        "    # Analyze the activations (e.g compute principal components, clusters, etc.)\n",
        "    layer_activations = activations[f'transformer_layer_{layer_idx}']\n",
        "\n",
        "    # Compute PCA for visualization (Example)\n",
        "\n",
        "    from sklearn.decomposition import PCA\n",
        "    pca = PCA(n_components=2)\n",
        "    activation_2d = pca.fit_transform(layer_activations.squeeze(1).numpy())\n",
        "\n",
        "    return activation_2d"
      ]
    },
    {
      "cell_type": "markdown",
      "metadata": {},
      "source": [
        "### Information Compression and Internal Representations\n"
      ]
    },
    {
      "cell_type": "code",
      "execution_count": null,
      "metadata": {},
      "outputs": [],
      "source": [
        "def compute_mutual_information(model, dataset, num_samples=1000):\n",
        "    \"\"\"Estimate the mutual information btwn input features and internal representaions.\"\"\"\n",
        "    model.eval()\n",
        "    representations = []\n",
        "    inputs = []\n",
        "\n",
        "    # Collect samples\n",
        "    data_loader = DataLoader(dataset, batch_size=1, shuffle=True)\n",
        "    for i, (input_ids, _) in enumerate(data_loader):\n",
        "        if i >= num_samples:\n",
        "            break\n",
        "\n",
        "        # Get internal representations at a specific layer\n",
        "        with torch.no_grad():\n",
        "            # Forward pass through embedding layer\n",
        "            embedded = model.embedding(input_ids) * math.sqrt(model.d_model)\n",
        "            embedded = model.pos_encoder(embedded)\n",
        "\n",
        "            # Get representation after first transformer layer\n",
        "            layer_output = model.transformer_encoder.layers[0](embedded)\n",
        "\n",
        "            # store representation and input\n",
        "            representations.append(layer_output.meaan(dim=0).numpy())\n",
        "            inputs.append(input_ids.numpy())\n",
        "\n",
        "    representations = np.array(representations)\n",
        "    inputs = np.array(inputs)\n",
        "\n",
        "    # Estimate mutual information (simplified approximation)\n",
        "    from sklearn.feature_selection import mutual_info_regression\n",
        "\n",
        "    # Flatten inputs for MI calculation\n",
        "    flat_inputs = inputs.reshape(inputs.shape[0], -1)\n",
        "\n",
        "    # Calculate mutual information btwn each input dimension and representation\n",
        "    mi_scores = []\n",
        "    for i in range(representations.shape[1]):\n",
        "        mi = mutual_info_regression(flat_inputs, representations[:, i])\n",
        "        mi_scores.append(mi.mean())\n",
        "\n",
        "    return np.array(mi_scores)"
      ]
    },
    {
      "cell_type": "markdown",
      "metadata": {},
      "source": [
        "### The Emergence of In-Context Learning - adapts to new tasks without updating model params--all from next-token prediction"
      ]
    },
    {
      "cell_type": "code",
      "execution_count": null,
      "metadata": {},
      "outputs": [],
      "source": [
        "def demonstrate_in_context_learning(model, tokenizer, examples, test_input):\n",
        "    \"\"\"Show how a model can learn from examples in context.\"\"\"\n",
        "    # Format prompt with examples\n",
        "    prompt = \"Here are some examples:\\n\\n\"\n",
        "    for x, y in examples:\n",
        "        prompt += f\"Input: {x}\\nOutput: {y}\\n\\n\"\n",
        "\n",
        "    # Add test case \n",
        "    prompt += f\"Input: {test_input}\\nOutput:\"\n",
        "\n",
        "    # Tokenize\n",
        "    input_ids = tokenizer.encode(prompt, return_tensor=\"pt\")\n",
        "\n",
        "    # Generate response\n",
        "    model.eval()\n",
        "    with torch.no_grad():\n",
        "        output_ids = model.generate(\n",
        "            input_ids,\n",
        "            max_new_tokens=50,\n",
        "            temperature=0.7,\n",
        "            do_sample=True,\n",
        "            pad_token_id=tokenizer.eos_token_id\n",
        "        )\n",
        "\n",
        "    #3 Decode and return\n",
        "    output_text = tokenizer.decode(output_ids[0], skip_special_tokens=True)\n",
        "    return output_text.split(\"Output:\")[-1].strip()\n",
        "\n"
      ]
    },
    {
      "cell_type": "markdown",
      "metadata": {},
      "source": [
        "### Scaling laws and emerging abilities"
      ]
    },
    {
      "cell_type": "code",
      "execution_count": null,
      "metadata": {},
      "outputs": [],
      "source": [
        "def analyze_scaling_laws(model_sizes, task_performances):\n",
        "    \"\"\"Analyze how performance scales with model size.\"\"\"\n",
        "    import matplotlib.pyplot as plt\n",
        "\n",
        "    # Convert to log scale\n",
        "    log_sizes = np.log(model_sizes)\n",
        "\n",
        "    # Plot scaliing relationship\n",
        "    plt.figure(figsize=(10,6))\n",
        "    for task_name, performances in task_performances.items():\n",
        "        plt.plot(log_sizes, performances, marker='o', label=task_name)\n",
        "\n",
        "    # compute power law fit \n",
        "    for task_name, performances in task_performances.items():\n",
        "        # y = ax^b -> log(y) = log(a) + b * log(x)\n",
        "        coef  = np.polyfit(log_sizes, performances, 1)\n",
        "        poly1d_fn = np.poly1d(coef)\n",
        "        plt.plot(log_sizes, poly1d_fn(log_sizes), '--', alpha=0.7)\n",
        "        print(f\"Task: {task_name}, Power law: y = {np.exp(coef[1]):.4f} * X^{coef[0]:.4f}\")\n",
        "\n",
        "    plt.xlabel('Log(Model Size)')\n",
        "    plt.ylabel('Performance')\n",
        "    plt.title('Scaling laws for different tasks')\n",
        "    plt.legend()\n",
        "    plt.grid(True, alpha=0.3)\n",
        "\n",
        "    return plt"
      ]
    },
    {
      "cell_type": "markdown",
      "metadata": {},
      "source": [
        "### Probing internal knowledge representation"
      ]
    },
    {
      "cell_type": "code",
      "execution_count": null,
      "metadata": {},
      "outputs": [],
      "source": [
        "def train_linear_probe(model, dataset, task='part_of_speech', hidden_layer=6):\n",
        "    \"\"\"Train a linear probe to extract information from model representations.\"\"\"\n",
        "    model.eval()\n",
        "\n",
        "    # Collect representations and labels\n",
        "    representations = []\n",
        "    labels = []\n",
        "\n",
        "    for input_ids, label in dataset:\n",
        "        with torch.no_grad():\n",
        "            # Get hidden states from specified layerr\n",
        "            hidden_states = model.get_hidden_states(input_ids, layer=hidden_layer)\n",
        "            representations.append(hidden_states.cpu().numpy())\n",
        "            labels.append(label.cpu().numpy())\n",
        "\n",
        "    X = np.vstack(representations)\n",
        "    y = np.concatenate(labels)\n",
        "\n",
        "    # Train a linear classifier\n",
        "    from sklearn.linear_model import LogisticRegression\n",
        "    from sklearn.model_selection import train_test_split\n",
        "    from sklearn.metrics import accuracy_score\n",
        "\n",
        "    X_train, X_test, y_train, y_test = train_test_split(X,y,test_size=0.2, random_state=42)\n",
        "\n",
        "    clf = LogisticRegression(max_iter=1000)\n",
        "    clf.fit(X_train, y_train)\n",
        "\n",
        "    # Evaluate\n",
        "    y_pred = clf.predict(X_test)\n",
        "    accuracy = accuracy_score(y_test, y_pred)\n",
        "    print(f\"Probe accuracy for {task}: {accuracy:.4f}\")\n",
        "\n",
        "    return clf, accuracy"
      ]
    },
    {
      "cell_type": "markdown",
      "metadata": {},
      "source": [
        "### Interpretable Mechanistic Analysis - Identifying important attention patterns"
      ]
    },
    {
      "cell_type": "code",
      "execution_count": null,
      "metadata": {},
      "outputs": [],
      "source": [
        "def analyze_attention_patterns(model, input_text, head_idx=0, layer_idx=0):\n",
        "    \"\"\"Analyze and visualize attention patterns in a specific attention head.\"\"\"\n",
        "    model.eval()\n",
        "\n",
        "    # Tokenize input\n",
        "    input_ids = tokenizer.encode(input_text, return_tensor=\"pt\")\n",
        "\n",
        "    # Forward pass, capturing attention weights\n",
        "    with torch.no_grad():\n",
        "        outputs = model(input_ids, output_attentions=True)\n",
        "\n",
        "    # Get attention weights for the specified layer and head\n",
        "    # Shape: [batch_size, num_heads, seq_len, seq_len]\n",
        "    attention_weights = outputs.attentions[layer_idx][0, head_idx].cpu().numpy()\n",
        "    \n",
        "    # Get tokens for visualization\n",
        "    tokens = tokenizer.convert_ids_to_tokens(input_ids[0])\n",
        "\n",
        "    # Visualize attention\n",
        "    import matplotlib.pyplot as plt\n",
        "    import seaborn as sns\n",
        "\n",
        "    plt.figure(figsize=(10, 8))\n",
        "    sns.heatmap(attention_weights,\n",
        "                xticklabels=tokens,\n",
        "                yticklabels=tokens,\n",
        "                cmap=\"viridis\")\n",
        "    plt.title(f\"Attention patterns for Layer {layer_idx}, head {head_idx}\")\n",
        "    plt.tight_layout()\n",
        "\n",
        "    return attention_weights, plt\n",
        "    "
      ]
    },
    {
      "cell_type": "markdown",
      "metadata": {},
      "source": [
        "### Role of data in LLM Learning"
      ]
    },
    {
      "cell_type": "code",
      "execution_count": null,
      "metadata": {},
      "outputs": [],
      "source": [
        "def compare_models_With_different_data(model_a, model_b, test_prompts):\n",
        "    \"\"\"Compare outputs from models trained on different data distributions\"\"\"\n",
        "    results = []\n",
        "\n",
        "    for prompt in test_prompts:\n",
        "        output_a = generate_text(model_a, prompt)\n",
        "        output_b = generate_text(model_b, prompt)\n",
        "\n",
        "        results.append({\n",
        "            \"prompt\":prompt,\n",
        "            \"model_a_output\": output_a,\n",
        "            \"model_b_output\": output_b,\n",
        "            \"difference\": compare_outputs(output_a, output_b)\n",
        "        })\n",
        "\n",
        "    return results\n",
        "\n",
        "def compare_outputs(output_a, output_b):\n",
        "    \"\"\"Compute a measure of difference  between two models outputs\"\"\"\n",
        "    from nltk.translate.bleu_score import sentence_bleu\n",
        "\n",
        "    # Tokenize outputs\n",
        "    tokens_a = output_a.split()\n",
        "    tokens_b = output_b.split()\n",
        "\n",
        "    # Complete BLEU score as similarity measure\n",
        "    bleu = sentence_bleu([tokens_a], tokens_b)\n",
        "\n",
        "\n",
        "    return 1.0 - bleu # Return difference rather than similarity"
      ]
    },
    {
      "cell_type": "markdown",
      "metadata": {},
      "source": [
        "### From prediction to Reasoning: Chain-of-Thought and Self-Consistency"
      ]
    },
    {
      "cell_type": "code",
      "execution_count": null,
      "metadata": {},
      "outputs": [],
      "source": [
        "def standard_vs_chain_of_thought(model, tokenizer, problems):\n",
        "    \"\"\"Compare standard prompting vs. chain-of-thought prompting\"\"\""
      ]
    }
  ],
  "metadata": {
    "colab": {
      "provenance": []
    },
    "kernelspec": {
      "display_name": "env (3.10.12)",
      "language": "python",
      "name": "python3"
    },
    "language_info": {
      "codemirror_mode": {
        "name": "ipython",
        "version": 3
      },
      "file_extension": ".py",
      "mimetype": "text/x-python",
      "name": "python",
      "nbconvert_exporter": "python",
      "pygments_lexer": "ipython3",
      "version": "3.10.12"
    }
  },
  "nbformat": 4,
  "nbformat_minor": 0
}
