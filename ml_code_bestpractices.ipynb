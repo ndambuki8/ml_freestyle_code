{
  "cells": [
    {
      "cell_type": "code",
      "execution_count": 1,
      "metadata": {},
      "outputs": [
        {
          "name": "stdout",
          "output_type": "stream",
          "text": [
            "Hello worldds\n"
          ]
        }
      ],
      "source": [
        "print(\"Hello worldds\")"
      ]
    },
    {
      "cell_type": "markdown",
      "metadata": {},
      "source": [
        "# How do LLMs learn while predicting the next token?"
      ]
    },
    {
      "cell_type": "markdown",
      "metadata": {},
      "source": [
        "## The Deceptive Simplicity of Next-Token Prediction"
      ]
    },
    {
      "cell_type": "markdown",
      "metadata": {},
      "source": [
        "## The MMechanics of Token Prediction - minimal implementation of the Transformer Language model"
      ]
    },
    {
      "cell_type": "code",
      "execution_count": null,
      "metadata": {},
      "outputs": [],
      "source": [
        "import torch\n",
        "import torch.nn as nn\n",
        "import torch.nn.functional as F\n",
        "import math\n",
        "import numpy as np \n",
        "from torch.utils.data import Dataset, DataLoader\n",
        "\n",
        "class PositionalEncoding(nn.Module):\n",
        "    def __init__(self, d_model, max_len=5000):\n",
        "        super().__init__()\n",
        "\n",
        "        # Create position encodings once and for all\n",
        "        position = torch.arange(max_len).unsqueeze(1)\n",
        "        div_term = torch.exp(torch.arange(0, d_model, 2) * (-math.log(10000.0) / d_model))\n",
        "        pe = torch.zeros(max_len, d_model)\n",
        "        pe[:, 0::2] = torch.sin(position * div_term)\n",
        "        pe[:, 1::2] = torch.cos(position * div_term)\n",
        "        self.register_buffer('pe', pe)\n",
        "\n",
        "    def forward(self, x):\n",
        "        # x has shape [seq_len,, batch_size, embedding_dim]\n",
        "        return x + self.pe[:x.size(0), :]\n",
        "    \n",
        "class TransformerLM(nn.Module):\n",
        "    def __init__(self, vocab_size, d_model=512, nhead=8, num_layers=6, dim_feedforward=2048, droupout=0.1):\n",
        "        super().__init__()\n",
        "        self.model_type = 'Transformer'\n",
        "        self.d_model = d_model\n",
        "\n",
        "        self.embedding = nn.Embedding(vocab_size, d_model)\n",
        "        self.pos_encoder = PositionalEncoding(d_model)\n",
        "\n",
        "        # Create a standard transformer encoder \n",
        "        encoder_layers = nn.TransformerEncoderLayer(d_model, nhead, dim_feedforward, droupout)\n",
        "        self.transformer_encoder = nn.TransformerEncoder(encoder_layers, num_layers)\n",
        "\n",
        "        # Final layer to predict token probabilities \n",
        "        self.output_layer = nn.Linear(d_model, vocab_size)\n",
        "\n",
        "        self.init_weights()\n",
        "\n",
        "    def init_weights(self):\n",
        "        initrange =  0.1\n",
        "        self.embedding.weight.data.uniform_(-initrange, initrange)\n",
        "        self.output_layer.bias.data.zero_(-initrange, initrange)\n",
        "\n",
        "    def forward(Self, src, src_mask=None):\n",
        "        # src shape: [seq_len, batch_size]\n",
        "\n",
        "        # Create embeddings \n",
        "        src = self.embedding(src) * math.sqrt(self.d_model)\n",
        "        src = self.pos_encoder(src)\n",
        "\n",
        "        # Pass through transformer \n",
        "        if src_mask is None:\n",
        "            # Create a causal mask to prevent attending to future tokens\n",
        "            src_mask = nn.Transformer.generate_square_subsequent_mask(src.size(0))\n",
        "            src_mask = src_mask.to(src.device)\n",
        "\n",
        "        output =  self.transformer_encoder(src, src_mask)\n",
        "\n",
        "        # Project to vocabulary distribution\n",
        "        output = self.output_layer(output)\n",
        "\n",
        "        return output"
      ]
    },
    {
      "cell_type": "markdown",
      "metadata": {},
      "source": [
        "### The learning process, implementing the training loop - Maximizing log-likelihood, HHow does the LLM actually \"learn\""
      ]
    },
    {
      "cell_type": "code",
      "execution_count": null,
      "metadata": {},
      "outputs": [],
      "source": [
        "def train_transformer_lm(model, data_loader, optimizer,  criterion, device, clip_grad=1.0):\n",
        "    model.train()\n",
        "    total_loss = 0.\n",
        "    for batch_idx, (data, targets) in enumerate(data_loader):\n",
        "        data, ttargets = data.to(device), targets.to(device)\n",
        "\n",
        "        # Zero gradients from previous iteration \n",
        "        optimizer.zero_grad()\n",
        "\n",
        "        # Forward pass \n",
        "        output  = model(data)\n",
        "\n",
        "        # Reshape for loss computation \n",
        "        output = output.view(-1, output.size(-1))\n",
        "        targets = targets.vieww(-1)\n",
        "\n",
        "        # compute loss (negative, log-likelihood)\n",
        "        loss = criterion(output, targets)\n",
        "\n",
        "        # Backward pass \n",
        "        loss.backward()\n",
        "\n",
        "        # Clip gradients to prevent exploding gradients \n",
        "        torch.nn.utils.clilp_grad_norm_(model.parameters(), clip_grad)\n",
        "\n",
        "        # Update weights \n",
        "        optimizer.step()\n",
        "\n",
        "        total_loss += loss.item()\n",
        "\n",
        "        if batch_idx % 200 == 0:\n",
        "            print(f\"Batch {batch_idx}, Loss: {loss.item():.4f}\")\n",
        "\n",
        "    return total_loss / len(data_loader)"
      ]
    },
    {
      "cell_type": "markdown",
      "metadata": {},
      "source": [
        "### Emergent capabilities: Beyond Next-Token Prediction"
      ]
    },
    {
      "cell_type": "code",
      "execution_count": null,
      "metadata": {},
      "outputs": [],
      "source": [
        "def generate_text(model, start_sequence, max_new_tokens=50, temperature=1.0):\n",
        "    \"\"\"Generate text from the model, starting from the given sequence.\"\"\"\n",
        "    model.eval()\n",
        "\n",
        "    input_ids = torch.tensor(start_sequence, dtype=torch.long).unsqueeze(0)\n",
        "    generated_tokens = []\n",
        "\n",
        "    for _ in range(max_new_tokens):\n",
        "        # Prevent attending to future tokens\n",
        "        attn_mask = torch.tril(torch.ones((input_ids.size(1), input_ids.size(1))))\n",
        "\n",
        "        # Forward pass \n",
        "        with torch.no_grad():\n",
        "            outputs = model(input_ids, attn_mask)\n",
        "            next_token_logits = outputs[0, -1, :]\n",
        "\n",
        "            # Apply temperature sampling\n",
        "            if temperature > 0:\n",
        "                next_token_logits = next_token_logits / temperature\n",
        "\n",
        "            # Sample from the distribution \n",
        "            probs = F.softmax(next_token_logits, dim=-1)\n",
        "            next_token = torch.multinomial(probs, num_samples=1).item()\n",
        "\n",
        "            generated_tokens.append(next_token)\n",
        "\n",
        "            # Append the preducted token to input for next iteration\n",
        "            input_ids = torch.cat([input_ids, torch.tensor([[next_token]])], dim=1)\n",
        "    return generated_tokens\n",
        "    \n",
        "def analyze_activation_patterns(model, input_text, layer_idx= -1):\n",
        "    \"\"\"Analyze the internal activation patters for the given input.\"\"\"\n",
        "    model.eval()\n",
        "    input_ids = torch.tensor(input_text, dtype=torch.long).unsqueeze(0)\n",
        "\n",
        "    # Register hook to get activations \n",
        "    activations = {}\n",
        "    def get_activation(name):\n",
        "        def hook(model, input, output):\n",
        "            activations[name] = output.detach()\n",
        "        return hook\n",
        "    \n",
        "    # Attach hook to the specified transformer layer\n",
        "    model.transformer_encoder.layers[layer_idx].register_forward_hook(\n",
        "        get_activation(f'transformer_layer_{layer_idx}')\n",
        "    )\n",
        "\n",
        "    # Forward pass \n",
        "    with torch.no_grad():\n",
        "        model(input_ids)\n",
        "\n",
        "    # Analyze the activations (e.g compute principal components, clusters, etc.)\n",
        "    layer_activations = activations[f'transformer_layer_{layer_idx}']\n",
        "\n",
        "    # Compute PCA for visualization (Example)\n",
        "\n",
        "    from sklearn.decomposition import PCA\n",
        "    pca = PCA(n_components=2)\n",
        "    activation_2d = pca.fit_transform(layer_activations.squeeze(1).numpy())\n",
        "\n",
        "    return activation_2d"
      ]
    },
    {
      "cell_type": "markdown",
      "metadata": {},
      "source": [
        "### Information Compression and Internal Representations\n"
      ]
    },
    {
      "cell_type": "code",
      "execution_count": null,
      "metadata": {},
      "outputs": [],
      "source": [
        "def compute_mutual_information(model, dataset, num_samples=1000):\n",
        "    \"\"\"Estimate the mutual information btwn input features and internal representaions.\"\"\"\n",
        "    model.eval()\n",
        "    representations = []\n",
        "    inputs = []\n",
        "\n",
        "    # Collect samples\n",
        "    data_loader = DataLoader(dataset, batch_size=1, shuffle=True)\n",
        "    for i, (input_ids, _) in enumerate(data_loader):\n",
        "        if i >= num_samples:\n",
        "            break\n",
        "\n",
        "        # Get internal representations at a specific layer\n",
        "        with torch.no_grad():\n",
        "            # Forward pass through embedding layer\n",
        "            embedded = model.embedding(input_ids) * math.sqrt(model.d_model)\n",
        "            embedded = model.pos_encoder(embedded)\n",
        "\n",
        "            # Get representation after first transformer layer\n",
        "            layer_output = model.transformer_encoder.layers[0](embedded)\n",
        "\n",
        "            # store representation and input\n",
        "            representations.append(layer_output.meaan(dim=0).numpy())\n",
        "            inputs.append(input_ids.numpy())\n",
        "\n",
        "    representations = np.array(representations)\n",
        "    inputs = np.array(inputs)\n",
        "\n",
        "    # Estimate mutual information (simplified approximation)\n",
        "    from sklearn.feature_selection import mutual_info_regression\n",
        "\n",
        "    # Flatten inputs for MI calculation\n",
        "    flat_inputs = inputs.reshape(inputs.shape[0], -1)\n",
        "\n",
        "    # Calculate mutual information btwn each input dimension and representation\n",
        "    mi_scores = []\n",
        "    for i in range(representations.shape[1]):\n",
        "        mi = mutual_info_regression(flat_inputs, representations[:, i])\n",
        "        mi_scores.append(mi.mean())\n",
        "\n",
        "    return np.array(mi_scores)"
      ]
    },
    {
      "cell_type": "markdown",
      "metadata": {},
      "source": [
        "### The Emergence of In-Context Learning - adapts to new tasks without updating model params--all from next-token prediction"
      ]
    },
    {
      "cell_type": "code",
      "execution_count": null,
      "metadata": {},
      "outputs": [],
      "source": [
        "def demonstrate_in_context_learning(model, tokenizer, examples, test_input):\n",
        "    \"\"\"Show how a model can learn from examples in context.\"\"\"\n",
        "    # Format prompt with examples\n",
        "    prompt = \"Here are some examples:\\n\\n\"\n",
        "    for x, y in examples:\n",
        "        prompt += f\"Input: {x}\\nOutput: {y}\\n\\n\"\n",
        "\n",
        "    # Add test case \n",
        "    prompt += f\"Input: {test_input}\\nOutput:\"\n",
        "\n",
        "    # Tokenize\n",
        "    input_ids = tokenizer.encode(prompt, return_tensor=\"pt\")\n",
        "\n",
        "    # Generate response\n",
        "    model.eval()\n",
        "    with torch.no_grad():\n",
        "        output_ids = model.generate(\n",
        "            input_ids,\n",
        "            max_new_tokens=50,\n",
        "            temperature=0.7,\n",
        "            do_sample=True,\n",
        "            pad_token_id=tokenizer.eos_token_id\n",
        "        )\n",
        "\n",
        "    #3 Decode and return\n",
        "    output_text = tokenizer.decode(output_ids[0], skip_special_tokens=True)\n",
        "    return output_text.split(\"Output:\")[-1].strip()\n",
        "\n"
      ]
    },
    {
      "cell_type": "markdown",
      "metadata": {},
      "source": [
        "### Scaling laws and emerging abilities"
      ]
    },
    {
      "cell_type": "code",
      "execution_count": null,
      "metadata": {},
      "outputs": [],
      "source": [
        "def analyze_scaling_laws(model_sizes, task_performances):\n",
        "    \"\"\"Analyze how performance scales with model size.\"\"\"\n",
        "    import matplotlib.pyplot as plt\n",
        "\n",
        "    # Convert to log scale\n",
        "    log_sizes = np.log(model_sizes)\n",
        "\n",
        "    # Plot scaliing relationship\n",
        "    plt.figure(figsize=(10,6))\n",
        "    for task_name, performances in task_performances.items():\n",
        "        plt.plot(log_sizes, performances, marker='o', label=task_name)\n",
        "\n",
        "    # compute power law fit \n",
        "    for task_name, performances in task_performances.items():\n",
        "        # y = ax^b -> log(y) = log(a) + b * log(x)\n",
        "        coef  = np.polyfit(log_sizes, performances, 1)\n",
        "        poly1d_fn = np.poly1d(coef)\n",
        "        plt.plot(log_sizes, poly1d_fn(log_sizes), '--', alpha=0.7)\n",
        "        print(f\"Task: {task_name}, Power law: y = {np.exp(coef[1]):.4f} * X^{coef[0]:.4f}\")\n",
        "\n",
        "    plt.xlabel('Log(Model Size)')\n",
        "    plt.ylabel('Performance')\n",
        "    plt.title('Scaling laws for different tasks')\n",
        "    plt.legend()\n",
        "    plt.grid(True, alpha=0.3)\n",
        "\n",
        "    return plt"
      ]
    },
    {
      "cell_type": "markdown",
      "metadata": {},
      "source": [
        "### Probing internal knowledge representation"
      ]
    },
    {
      "cell_type": "code",
      "execution_count": null,
      "metadata": {},
      "outputs": [],
      "source": [
        "def train_linear_probe(model, dataset, task='part_of_speech', hidden_layer=6):\n",
        "    \"\"\"Train a linear probe to extract information from model representations.\"\"\"\n",
        "    model.eval()\n",
        "\n",
        "    # Collect representations and labels\n",
        "    representations = []\n",
        "    labels = []\n",
        "\n",
        "    for input_ids, label in dataset:\n",
        "        with torch.no_grad():\n",
        "            # Get hidden states from specified layerr\n",
        "            hidden_states = model.get_hidden_states(input_ids, layer=hidden_layer)\n",
        "            representations.append(hidden_states.cpu().numpy())\n",
        "            labels.append(label.cpu().numpy())\n",
        "\n",
        "    X = np.vstack(representations)\n",
        "    y = np.concatenate(labels)\n",
        "\n",
        "    # Train a linear classifier\n",
        "    from sklearn.linear_model import LogisticRegression\n",
        "    from sklearn.model_selection import train_test_split\n",
        "    from sklearn.metrics import accuracy_score\n",
        "\n",
        "    X_train, X_test, y_train, y_test = train_test_split(X,y,test_size=0.2, random_state=42)\n",
        "\n",
        "    clf = LogisticRegression(max_iter=1000)\n",
        "    clf.fit(X_train, y_train)\n",
        "\n",
        "    # Evaluate\n",
        "    y_pred = clf.predict(X_test)\n",
        "    accuracy = accuracy_score(y_test, y_pred)\n",
        "    print(f\"Probe accuracy for {task}: {accuracy:.4f}\")\n",
        "\n",
        "    return clf, accuracy"
      ]
    },
    {
      "cell_type": "markdown",
      "metadata": {},
      "source": [
        "### Interpretable Mechanistic Analysis - Identifying important attention patterns"
      ]
    },
    {
      "cell_type": "code",
      "execution_count": null,
      "metadata": {},
      "outputs": [],
      "source": [
        "def analyze_attention_patterns(model, input_text, head_idx=0, layer_idx=0):\n",
        "    \"\"\"Analyze and visualize attention patterns in a specific attention head.\"\"\"\n",
        "    model.eval()\n",
        "\n",
        "    # Tokenize input\n",
        "    input_ids = tokenizer.encode(input_text, return_tensor=\"pt\")\n",
        "\n",
        "    # Forward pass, capturing attention weights\n",
        "    with torch.no_grad():\n",
        "        outputs = model(input_ids, output_attentions=True)\n",
        "\n",
        "    # Get attention weights for the specified layer and head\n",
        "    # Shape: [batch_size, num_heads, seq_len, seq_len]\n",
        "    attention_weights = outputs.attentions[layer_idx][0, head_idx].cpu().numpy()\n",
        "    \n",
        "    # Get tokens for visualization\n",
        "    tokens = tokenizer.convert_ids_to_tokens(input_ids[0])\n",
        "\n",
        "    # Visualize attention\n",
        "    import matplotlib.pyplot as plt\n",
        "    import seaborn as sns\n",
        "\n",
        "    plt.figure(figsize=(10, 8))\n",
        "    sns.heatmap(attention_weights,\n",
        "                xticklabels=tokens,\n",
        "                yticklabels=tokens,\n",
        "                cmap=\"viridis\")\n",
        "    plt.title(f\"Attention patterns for Layer {layer_idx}, head {head_idx}\")\n",
        "    plt.tight_layout()\n",
        "\n",
        "    return attention_weights, plt\n",
        "    "
      ]
    },
    {
      "cell_type": "markdown",
      "metadata": {},
      "source": [
        "### Role of data in LLM Learning"
      ]
    },
    {
      "cell_type": "code",
      "execution_count": null,
      "metadata": {},
      "outputs": [],
      "source": [
        "def compare_models_With_different_data(model_a, model_b, test_prompts):\n",
        "    \"\"\"Compare outputs from models trained on different data distributions\"\"\"\n",
        "    results = []\n",
        "\n",
        "    for prompt in test_prompts:\n",
        "        output_a = generate_text(model_a, prompt)\n",
        "        output_b = generate_text(model_b, prompt)\n",
        "\n",
        "        results.append({\n",
        "            \"prompt\":prompt,\n",
        "            \"model_a_output\": output_a,\n",
        "            \"model_b_output\": output_b,\n",
        "            \"difference\": compare_outputs(output_a, output_b)\n",
        "        })\n",
        "\n",
        "    return results\n",
        "\n",
        "def compare_outputs(output_a, output_b):\n",
        "    \"\"\"Compute a measure of difference  between two models outputs\"\"\"\n",
        "    from nltk.translate.bleu_score import sentence_bleu\n",
        "\n",
        "    # Tokenize outputs\n",
        "    tokens_a = output_a.split()\n",
        "    tokens_b = output_b.split()\n",
        "\n",
        "    # Complete BLEU score as similarity measure\n",
        "    bleu = sentence_bleu([tokens_a], tokens_b)\n",
        "\n",
        "\n",
        "    return 1.0 - bleu # Return difference rather than similarity"
      ]
    },
    {
      "cell_type": "markdown",
      "metadata": {},
      "source": [
        "### From prediction to Reasoning: Chain-of-Thought and Self-Consistency"
      ]
    },
    {
      "cell_type": "code",
      "execution_count": null,
      "metadata": {},
      "outputs": [],
      "source": [
        "def standard_vs_chain_of_thought(model, tokenizer, problems):\n",
        "    \"\"\"Compare standard prompting vs. chain-of-thought prompting\"\"\"\n",
        "    result = []\n",
        "\n",
        "    for problem in problems:\n",
        "\n",
        "        # Standard prompting \n",
        "        standard_prompt = f\"Problem: {problem}\\nAnswer:\"\n",
        "        standard_output = generate_completion(model, tokenizer, standard_prompt)\n",
        "\n",
        "        # Chain of thought prompting\n",
        "        cot_prompt = f\"Problem: {prblem}\\nLet's solve this step-by-step:\"\n",
        "        cot_output = generate_completion(model, tokenizer, cot_prompt)\n",
        "\n",
        "        # Extract final answers\n",
        "        standard_answer = extract_answer(standard_output)\n",
        "        cot_answer = extract_answer(cot_output)\n",
        "\n",
        "        results.append({\n",
        "            \"problem\":problem,\n",
        "            \"standard_output\": standard_output,\n",
        "            \"cot_output\": cot_output,\n",
        "            \"standard_answer\": standard_answer,\n",
        "            \"cot_answer\":cot_answer,\n",
        "            \"standard_correct\":evaluate_answer(problem, standard_answer)\n",
        "            \"cot_correct\": evaluate_answer(problem, cot_answer)\n",
        "        })\n",
        "\n",
        "    return result\n",
        "\n",
        "def self_consistency_sampling(model, tokenizer, problem, n_samples=5):\n",
        "    \"\"\"Implement self consistency sampling for more reliable reasoning\"\"\"\n",
        "    cot_prompt = f\"Problem: {problem}\\n Lets solve this step by step\"\n",
        "\n",
        "    # Generate multiple chain of thought paths\n",
        "    paths = []\n",
        "    answers = []\n",
        "\n",
        "    for _ in range(n_samples):\n",
        "        output = generate_completion(model, tokenizer, cot_prompt, temperature=0.7)\n",
        "        answer = extract_answer(output)\n",
        "\n",
        "        paths.append(output)\n",
        "        answers.append(answer)\n",
        "\n",
        "    #Return most common answer and all reasoning paths\n",
        "    from collections import Counter\n",
        "    answer_counts = Counter(answers)\n",
        "    most_common_answer = answer_counts.most_common(1)[0][0]\n",
        "\n",
        "    return {\n",
        "        \"problem\": problem,\n",
        "        \"paths\": paths,\n",
        "        \"answers\":answers,\n",
        "        \"most_common_answer\": most_common_answer,\n",
        "        \"is_correct\": evaluate_answer(problem, most_common_answer)\n",
        "    }\n"
      ]
    },
    {
      "cell_type": "markdown",
      "metadata": {},
      "source": [
        "# MULTI-HEAD ATTENTION  - Implementing it in Pytorch"
      ]
    },
    {
      "cell_type": "code",
      "execution_count": null,
      "metadata": {},
      "outputs": [],
      "source": [
        "class PrepareForMultiHeadAttention(nn.Module):\n",
        "    def __init__(self, d_model: int, heads: int, d_k : int, bias: bool):\n",
        "        super().__init__()\n",
        "        # Linear layer for transformation\n",
        "        self.linear == nn.Linear(d_model, heads * d_k, bias=bias)\n",
        "\n",
        "        # Number of attention heads\n",
        "        self.heads = heads\n",
        "        # Dimension of each head\n",
        "        self.d_k = d_k\n",
        "\n",
        "    def forward(self, x: torch.Tensor):\n",
        "        # Save original shape (except last dimension)\n",
        "        head_shape = x.shape[:-1]\n",
        "\n",
        "        # Apply linear transformation\n",
        "        x = self.linear(x)\n",
        "\n",
        "        # Reshape to separate heads\n",
        "        x = x.view(*head_shape, self.heads, self.d_k)\n",
        "\n",
        "        return x"
      ]
    },
    {
      "cell_type": "markdown",
      "metadata": {},
      "source": [
        "## Multi-Head Attention implementation"
      ]
    },
    {
      "cell_type": "code",
      "execution_count": null,
      "metadata": {},
      "outputs": [],
      "source": [
        "class MultiHeadAttention(nn.Module):\n",
        "    def __init__(self, heads: int, d_model: int, dropout_prob: float = 0.1, bias: bool = True):\n",
        "        super().__init__()\n",
        "\n",
        "        # Features per head\n",
        "        self.d_k = d_model // heads\n",
        "        self.heads = heads\n",
        "\n",
        "        # Transform query, key, value\n",
        "        self.query = PrepareForMultiHeadAttention(d_model,  heads, self.d_k, bias=bias)\n",
        "        self.key = PrepareForMultiHeadAttention(d_model, heads, self.d_k,  bias=bias)\n",
        "        self.value = PrepareForMultiHeadAttention(d_model, heads, self.d_k, bias=True)\n",
        "\n",
        "        self.softmax = nn.Softmax(dim=1)\n",
        "        self.output = nn.Linear(d_model, d_model)\n",
        "        self.dropout = nn.Droupout(dropout_prob)\n",
        "        self.scale = 1 / math.sqrt(self.d_k) # prevents the dot products from growing too large when the dimension increases.\n",
        "\n",
        "        self.attn = None\n",
        "\n",
        "    def forward(self, *, query, key, value, mask=None):\n",
        "        seq_len, batch_size, _ = query.shape\n",
        "\n",
        "        if mask is not None:\n",
        "            mask = self.prepare_mask(mask, query.shape, key.shape)\n",
        "\n",
        "        # Transform inputs\n",
        "        query = self.query(query)\n",
        "        key = self.key(key)\n",
        "        value = self.value(value)\n",
        "\n",
        "        # Calculate attention scores\n",
        "        scores = self.get_scores(query, key)\n",
        "\n",
        "        # Scale scores\n",
        "        scores *= self.scale\n",
        "\n",
        "        # Apply mask if provided\n",
        "        if mask is not None:\n",
        "            scores = scores.masked_fill(mask==0, float('-inf'))\n",
        "\n",
        "        # Apply softmax\n",
        "        attn = self.softmax(scores)\n",
        "\n",
        "        # Apply dropout\n",
        "        attn = self.dropout(attn)\n",
        "\n",
        "        # Multiply by values \n",
        "        X = torch.einsum(\"ijbh, jbhd -> ibhd\", attn, value)\n",
        "\n",
        "        # Save attention weights\n",
        "        self.attn = attn.detach()\n",
        "\n",
        "        # Reshape and apply output layer\n",
        "        X = X.reshape(seq_len, batch_size, -1)\n",
        "        return self.output(X)"
      ]
    },
    {
      "cell_type": "markdown",
      "metadata": {},
      "source": [
        "### Attention Mechanism step-by-step\n",
        "#### First we transform, query, key and value vectors using the preparation class.\n",
        "#### Then, we calculate attentins scores using the get_scores method"
      ]
    },
    {
      "cell_type": "code",
      "execution_count": null,
      "metadata": {},
      "outputs": [],
      "source": [
        "def get_scores(self, query: torch.Tensor, key: torch.Tensor):\n",
        "    # Calculate dot product between queries and keys\n",
        "    return torch.einsum('ibhd, jbhd -> ijbh', query, key)"
      ]
    },
    {
      "cell_type": "markdown",
      "metadata": {},
      "source": [
        "### MASKING PROCESS"
      ]
    },
    {
      "cell_type": "code",
      "execution_count": null,
      "metadata": {},
      "outputs": [],
      "source": [
        "def prepare_mask(self, mask: torch.Tensor, query_shape: List[int], key_shape: List[int]):\n",
        "    # Ensure mask dimensions match\n",
        "    assert mask.shape[0] == 1 or mask.shape[0] == query_shape[0]\n",
        "    assert mask.shape[1] == key_shape[0]\n",
        "    assert mask.shape[2] == 1 or mask.shape[2] == query_shape[1]\n",
        "\n",
        "    # Add dimension for heads\n",
        "    mask = mask.unsqueeze(-1)\n",
        "\n",
        "    return mask"
      ]
    },
    {
      "cell_type": "code",
      "execution_count": null,
      "metadata": {},
      "outputs": [],
      "source": [
        "def create_causal_mask(seq_len):\n",
        "    # Create a matrix where each position (i, j) is 1 if j <= i, else 0\n",
        "    # The mask should have 1s where we ALLOW attention (not where we block it)\n",
        "    mask = torch.tril(torch.ones(seq_len, seq_len), diagonal=0)\n",
        "\n",
        "    #Add batch dimesnion and trabspoise to match expected shapre\n",
        "    return mask.unsqueeze(2).byte()"
      ]
    },
    {
      "cell_type": "code",
      "execution_count": null,
      "metadata": {},
      "outputs": [],
      "source": [
        "def test_multi_head_attention():\n",
        "    print(\"Testing multihead attention\")\n",
        "\n",
        "    # Test parameters\n",
        "    batch_size = 2\n",
        "    seq_len = 5\n",
        "    d_model = 64\n",
        "    heads = 8\n",
        "\n",
        "    # Create random test inputs\n",
        "    query = torch.randn(seq_len, batch_size, d_model)\n",
        "    key = torch.randn(seq_len, batch_size, d_model)\n",
        "    value = torch.randn(seq_len, batch_size, d_model)\n",
        "\n",
        "    # Create nodel\n",
        "    mha = MultiHeadAttention(heads=heads, d_model=d_model)\n",
        "\n",
        "    # Test without mask\n",
        "    print(\"Testing without mask...\")\n",
        "    output = mha(query=query, key=key, value=value)\n",
        "    print(f\"Output shape: {output.shape}\")\n",
        "    assert output.shape == (seq_len, batch_size, d_model), f\"Expected shape {(seq_len, batch_size, d_model)}, got {output.shape}\"\n",
        "\n",
        "    # Test with causal mask\n",
        "    mask = create_causal_mask(seq_len)\n",
        "    print(\"Testing with causal mask...\")\n",
        "    output = mha(query=query, key=key, value=value, mask=mask)\n",
        "    print(f\"Output shape: {output.shape}\")\n",
        "    assert output.shape == (seq_len, batch_size, d_model), f\"Expected shape {(seq_len, batch_size, d_model)}, got {output.shape}\"\n",
        "\n",
        "    # Testing attention weights\n",
        "    print(f\"Attention weights shape: {mha.attn.shape}\")\n",
        "    assert mha.attn.shape == (seq_len, seq_len, batch_size, heads), \\\n",
        "    f\"Expected shape {(seq_len, seq_len, batch_size, heads)}, got {mha.attn.shape}\"\n",
        "\n",
        "    # Test causal is working\n",
        "    # Lower triangular part of attention should have values, upper triangular should be close to 0\n",
        "    for i in range(seq_len):\n",
        "        for j in range(seq_len):\n",
        "            if j > i: # Upper triangular (except diagonal)\n",
        "                # Check if attnetion for masked posoitions is very close to 0\n",
        "                assert torch.all(mha.attn[i,j] < 1e-7), \\\n",
        "                f\"Position ({i},{j} should be masked but has non-zero attention: {mha.attn[i, j].max().item()})\"\n",
        "    \n",
        "    print(\"All  tests passed\")\n",
        "\n",
        "    # Visualize attention weights for the first head in the first batch\n",
        "    import matplotlib.pyplot as plt\n",
        "    plt.figure(figsize=(8,6))\n",
        "    plt.imshow(mha.attn[:, :, 0,0].cpu().numpy(), cmap='viridis')\n",
        "    plt.colorbar()\n",
        "    plt.title('Attention Weights (First head, first batch)')\n",
        "    plt.xlabel('Key position')\n",
        "    plt.ylabel(\"Query position\")\n",
        "    plt.show()\n",
        "\n",
        "if __name__ == \"__main__\":\n",
        "    test_multi_head_attention()"
      ]
    },
    {
      "cell_type": "markdown",
      "metadata": {},
      "source": [
        "# Generalization through Memorization: Nearest Neighbor Language Models"
      ]
    },
    {
      "cell_type": "markdown",
      "metadata": {},
      "source": [
        "## The next section is based on https://arxiv.org/pdf/1911.00172"
      ]
    },
    {
      "cell_type": "markdown",
      "metadata": {},
      "source": [
        "#### Step 1: Training the Base Transformer"
      ]
    },
    {
      "cell_type": "code",
      "execution_count": null,
      "metadata": {},
      "outputs": [],
      "source": [
        "class AutoRegressiveModel(Module):\n",
        "    def __init__(self, src_embed: Module, encoder: Encoder, generator: Generator, *,is_save_ff_input: bool = False):\n",
        "        super().__init__()\n",
        "        self.src_embed = src_embed\n",
        "        self.encoder = encoder\n",
        "\n",
        "        # This is crucial - we need to save the feed-forward input\n",
        "        self.encoder.layers[-1].is_save_ff_input = is_save_ff_input\n",
        "        self.generator = generator\n",
        "        self.src_mask = None"
      ]
    },
    {
      "cell_type": "markdown",
      "metadata": {},
      "source": [
        "#### Step 2: Building the Memory Index"
      ]
    },
    {
      "cell_type": "code",
      "execution_count": null,
      "metadata": {},
      "outputs": [],
      "source": [
        "def gather_keys(conf: Configs):\n",
        "    d_model = conf.transformer.d_model\n",
        "    data_loader = conf.trainer.data_loader\n",
        "    n_keys = data_loader.data.shape[0] * data_loader.data.shape[1] -1\n",
        "\n",
        "    # Memory-mapped arrays for efficiency\n",
        "    keys_store = np.memmap(str(lab.get_data_path()/'keys.npy'),\n",
        "                           dtype=np.float32, mode='w+', shape=(n_keys, d_model))\n",
        "    vals_store = np.memmap(str(lab.get_data_path() / 'vals.npy'),\n",
        "                           dtype=np.int, mode='w+', shape=(n_keys, 1))"
      ]
    },
    {
      "cell_type": "code",
      "execution_count": null,
      "metadata": {},
      "outputs": [],
      "source": [
        "# The FAISS indexing part\n",
        "def build_index(conf:Configs, n_centroids: int = 2048, code_size: int = 64):\n",
        "    quantizer = faiss.IndexFlatL2(d_model)\n",
        "    index = faiss.IndexIVFPQ(quantizer, d_model, n_centroids, code_size, 8)"
      ]
    },
    {
      "cell_type": "markdown",
      "metadata": {},
      "source": [
        "#### k-NN Prediction"
      ]
    },
    {
      "cell_type": "code",
      "execution_count": null,
      "metadata": {},
      "outputs": [],
      "source": [
        "def knn(queries: torch.Tensor, index: faiss.IndexFlatL2,\n",
        "        keys_store: np.ndarray, vals_store: np.ndarray, n_tokens: int):\n",
        "    queries = queries.view(-1, queries.shape[-1])\n",
        "\n",
        "    # Find 10 nearest neighbors\n",
        "    distance, idx = index.search(queries.numpy(), 10)\n",
        "\n",
        "    # Get the actual context embeddings and tokens\n",
        "    keys_found = queries.new_tensor(keys_store[idx])\n",
        "    vals_found = torch.tensor(vals_store[idx]).squeeze(-1)"
      ]
    },
    {
      "cell_type": "code",
      "execution_count": null,
      "metadata": {},
      "outputs": [],
      "source": [
        "# Normalize vectors for cosine similarity\n",
        "keys_found_n = keys_found / torch.sqrt((keys_found ** 2).sum(-1, keepdims=True) + 1e-10)\n",
        "queries_n = queries / torch.sqrt((queries ** 2).sum(-1, keepdims=True) + 1e-10)\n",
        "\n",
        "# Cosine similarity via dot product\n",
        "dot_prod = (keys_found_n * queries_n.unsqueeze(1)).sum(-1)"
      ]
    },
    {
      "cell_type": "code",
      "execution_count": null,
      "metadata": {},
      "outputs": [],
      "source": [
        "logits_token = dot_prod.new_zeros(queries.shape[0], n_tokens)\n",
        "logits_token.scatter_(dim=1, index=vals_found, src=dot_prod, reduce='add')"
      ]
    },
    {
      "cell_type": "markdown",
      "metadata": {},
      "source": [
        "#### Final boss"
      ]
    },
    {
      "cell_type": "code",
      "execution_count": null,
      "metadata": {},
      "outputs": [],
      "source": [
        "loss = conf.loss_func(res_knn * c + (1-c) * res, target)"
      ]
    },
    {
      "cell_type": "markdown",
      "metadata": {},
      "source": [
        "# ------------------------------------------------------------------------------------------------------------------------------"
      ]
    },
    {
      "cell_type": "markdown",
      "metadata": {},
      "source": [
        "# Chap 1"
      ]
    },
    {
      "cell_type": "markdown",
      "metadata": {},
      "source": [
        "## How to represent text for AI"
      ]
    },
    {
      "cell_type": "code",
      "execution_count": 1,
      "metadata": {},
      "outputs": [],
      "source": [
        "import numpy as np"
      ]
    },
    {
      "cell_type": "markdown",
      "metadata": {},
      "source": [
        "### One hot encoding"
      ]
    },
    {
      "cell_type": "code",
      "execution_count": null,
      "metadata": {},
      "outputs": [
        {
          "name": "stdout",
          "output_type": "stream",
          "text": [
            "{'21st': 0, 'a': 1, 'as': 2, 'be': 3, 'enters': 4, 'for': 5, 'he': 6, 'his': 7, 'james': 8, 'lebron': 9, 'lookout': 10, 'new': 11, 'on': 12, 'season?': 13, 'should': 14, 'team': 15, 'the': 16}\n",
            "Vocabulary: ['21st', 'a', 'as', 'be', 'enters', 'for', 'he', 'his', 'james', 'lebron', 'lookout', 'new', 'on', 'season?', 'should', 'team', 'the']\n",
            "One hot encoding matrix:\n",
            " [[0 0 0 0 0 0 0 0 0 0 0 0 0 0 1 0 0]\n",
            " [0 0 0 0 0 0 0 0 0 1 0 0 0 0 0 0 0]\n",
            " [0 0 0 0 0 0 0 0 1 0 0 0 0 0 0 0 0]\n",
            " [0 0 0 1 0 0 0 0 0 0 0 0 0 0 0 0 0]\n",
            " [0 0 0 0 0 0 0 0 0 0 0 0 1 0 0 0 0]\n",
            " [0 0 0 0 0 0 0 0 0 0 0 0 0 0 0 0 1]\n",
            " [0 0 0 0 0 0 0 0 0 0 1 0 0 0 0 0 0]\n",
            " [0 0 0 0 0 1 0 0 0 0 0 0 0 0 0 0 0]\n",
            " [0 1 0 0 0 0 0 0 0 0 0 0 0 0 0 0 0]\n",
            " [0 0 0 0 0 0 0 0 0 0 0 1 0 0 0 0 0]\n",
            " [0 0 0 0 0 0 0 0 0 0 0 0 0 0 0 1 0]\n",
            " [0 0 1 0 0 0 0 0 0 0 0 0 0 0 0 0 0]\n",
            " [0 0 0 0 0 0 1 0 0 0 0 0 0 0 0 0 0]\n",
            " [0 0 0 0 1 0 0 0 0 0 0 0 0 0 0 0 0]\n",
            " [0 0 0 0 0 0 0 1 0 0 0 0 0 0 0 0 0]\n",
            " [1 0 0 0 0 0 0 0 0 0 0 0 0 0 0 0 0]\n",
            " [0 0 0 0 0 0 0 0 0 0 0 0 0 1 0 0 0]]\n"
          ]
        }
      ],
      "source": [
        "def one_hot_encoding(sentence):\n",
        "    words = sentence.lower().split()\n",
        "    vocabulary = sorted(set(words))\n",
        "    word_to_index = {word: i for i, word in enumerate(vocabulary)}\n",
        "    # print(word_to_index)\n",
        "    one_hot_matrix = np.zeros((len(words), len(vocabulary)), dtype=int)\n",
        "    for i, word in enumerate(words):\n",
        "        one_hot_matrix[i, word_to_index[word]] = 1\n",
        "    \n",
        "    return one_hot_matrix, vocabulary\n",
        "\n",
        "#Example of usage\n",
        "sentence = \"Should Lebron James be on the lookout for a new team as he enters his 21st season?\"\n",
        "one_hot_matrix, vocabulary = one_hot_encoding(sentence)\n",
        "print(\"Vocabulary:\", vocabulary)\n",
        "print(\"One hot encoding matrix:\\n\", one_hot_matrix)"
      ]
    },
    {
      "cell_type": "markdown",
      "metadata": {},
      "source": [
        "### Bag of words"
      ]
    },
    {
      "cell_type": "code",
      "execution_count": 4,
      "metadata": {},
      "outputs": [
        {
          "name": "stdout",
          "output_type": "stream",
          "text": [
            "Vocabulary: ['a', 'awesome', 'awesome?', 'but', 'can', 'do', 'fool', 'good,', 'i', 'is', 'movie', 'neither', 'not', 'only', 'say', 'that', 'this']\n",
            "Bag of Words Matrix:\n",
            " [[0 2 0 0 0 0 0 0 0 1 1 0 0 0 0 0 1]\n",
            " [0 1 0 1 0 1 0 1 1 1 0 1 1 0 1 0 0]\n",
            " [1 0 1 0 1 0 1 0 0 0 0 0 0 1 1 1 0]]\n"
          ]
        }
      ],
      "source": [
        "import numpy as np\n",
        "def bag_of_words(sentences):\n",
        "    \"\"\"Creates a bag-of-words representation of a list of documents\"\"\"\n",
        "    tokenized_sentences = [sentence.lower().split() for sentence in sentences]\n",
        "    flat_words = [word for sublist in tokenized_sentences for word in sublist]\n",
        "    vocabulary = sorted(set(flat_words))\n",
        "    word_to_index = {word: i for i, word in enumerate (vocabulary)}\n",
        "\n",
        "    bow_matrix = np.zeros((len(sentences), len(vocabulary)), dtype=int)\n",
        "    for i, sentence in enumerate (tokenized_sentences):\n",
        "        for word in sentence:\n",
        "            if word in word_to_index:\n",
        "                bow_matrix[i, word_to_index[word]] += 1\n",
        "\n",
        "    return vocabulary, bow_matrix\n",
        "\n",
        "# Example of usage \n",
        "corpus = [\"This movie is awesome awesome\", \"I do not say is good, but neither awesome\", \"Awesome? Only a fool can say that\"]\n",
        "vocabulary, bow_matrix = bag_of_words(corpus)\n",
        "print(\"Vocabulary:\", vocabulary)\n",
        "print(\"Bag of Words Matrix:\\n\", bow_matrix)"
      ]
    },
    {
      "cell_type": "markdown",
      "metadata": {},
      "source": [
        "### TF-IDF"
      ]
    },
    {
      "cell_type": "code",
      "execution_count": 1,
      "metadata": {},
      "outputs": [
        {
          "ename": "NameError",
          "evalue": "name 'corpus' is not defined",
          "output_type": "error",
          "traceback": [
            "\u001b[0;31m---------------------------------------------------------------------------\u001b[0m",
            "\u001b[0;31mNameError\u001b[0m                                 Traceback (most recent call last)",
            "Cell \u001b[0;32mIn[1], line 32\u001b[0m\n\u001b[1;32m     29\u001b[0m     tf_idf_matrix \u001b[38;5;241m=\u001b[39m tf \u001b[38;5;241m*\u001b[39m idf\n\u001b[1;32m     30\u001b[0m     \u001b[38;5;28;01mreturn\u001b[39;00m vocabulary, tf_idf_matrix    \n\u001b[0;32m---> 32\u001b[0m vocabulary, tf_idf_matrix \u001b[38;5;241m=\u001b[39m tf_idf(\u001b[43mcorpus\u001b[49m)\n\u001b[1;32m     33\u001b[0m \u001b[38;5;28mprint\u001b[39m(\u001b[38;5;124m\"\u001b[39m\u001b[38;5;124mVocabulary:\u001b[39m\u001b[38;5;124m\"\u001b[39m, vocabulary)\n\u001b[1;32m     34\u001b[0m \u001b[38;5;28mprint\u001b[39m(\u001b[38;5;124m\"\u001b[39m\u001b[38;5;124mTF_IDF Matrix:\u001b[39m\u001b[38;5;130;01m\\n\u001b[39;00m\u001b[38;5;124m\"\u001b[39m, tf_idf_matrix)\n",
            "\u001b[0;31mNameError\u001b[0m: name 'corpus' is not defined"
          ]
        }
      ],
      "source": [
        "def compute_tf(sentences):\n",
        "    \"\"\"Compute the term frequency matrix for a list of sentences\"\"\"\n",
        "    vocabulary = sorted(set(word for sentence in sentences for word in sentence.lower().split()))\n",
        "    word_index = {word: i for i, word in enumerate(vocabulary)}\n",
        "    tf = np.zeros((len(sentences), len(vocabulary)), dtype=np.float32)\n",
        "    for i, sentence in enumerate(sentences):\n",
        "        words = sentence.lower().split()\n",
        "        word_count = len(words)\n",
        "        for word in words:\n",
        "            if word in word_index:\n",
        "                tf[i, word_index[word]] += 1 / word_count\n",
        "    \n",
        "    return tf, vocabulary\n",
        "\n",
        "def compute_idf(sentences, vocabulary):\n",
        "    \"\"\"Compute the inverse document frequence of a list of sentences\"\"\"\n",
        "    num_documents = len(sentences)\n",
        "    idf = np.zeros(len(vocabulary), dtype=np.float32)\n",
        "    word_index = {word: i for i, word in enumerate(vocabulary)}\n",
        "    for word in vocabulary:\n",
        "        df = sum(1 for sentence in sentences if word in sentence.lower().split())\n",
        "        idf[word_index[word]] = np.log(num_documents / (1 + df)) + 1 # Smoothing\n",
        "    return idf\n",
        "\n",
        "def tf_idf(sentences):\n",
        "    \"\"\"Generate a TF-IDF matrix for a list of sentnces\"\"\"\n",
        "    tf, vocabulary = compute_tf(sentences)\n",
        "    idf = compute_idf(sentences, vocabulary)\n",
        "    tf_idf_matrix = tf * idf\n",
        "    return vocabulary, tf_idf_matrix    \n",
        "\n",
        "vocabulary, tf_idf_matrix = tf_idf(corpus)\n",
        "print(\"Vocabulary:\", vocabulary)\n",
        "print(\"TF_IDF Matrix:\\n\", tf_idf_matrix)"
      ]
    },
    {
      "cell_type": "markdown",
      "metadata": {},
      "source": [
        "# How to use enumerate when we need to get both an iterable item as well as its index"
      ]
    },
    {
      "cell_type": "code",
      "execution_count": 2,
      "metadata": {},
      "outputs": [
        {
          "name": "stdout",
          "output_type": "stream",
          "text": [
            "0 bus\n",
            "1 plane\n",
            "2 ship\n",
            "3 motorcycle\n",
            "4 walk\n"
          ]
        }
      ],
      "source": [
        "my_list = [\"bus\", \"plane\", \"ship\", \"motorcycle\", \"walk\"]\n",
        "\n",
        "i = 0\n",
        "for item in my_list:\n",
        "    print(i, item)\n",
        "    i += 1"
      ]
    },
    {
      "cell_type": "code",
      "execution_count": 6,
      "metadata": {},
      "outputs": [
        {
          "name": "stdout",
          "output_type": "stream",
          "text": [
            "1 bus\n",
            "2 plane\n",
            "3 ship\n",
            "4 motorcycle\n",
            "5 walk\n"
          ]
        }
      ],
      "source": [
        "for i, item in enumerate(my_list, start=1):\n",
        "    print(i, item)"
      ]
    },
    {
      "cell_type": "code",
      "execution_count": 1,
      "metadata": {},
      "outputs": [],
      "source": [
        "import matplotlib.pyplot as plt\n",
        "import numpy as np\n",
        "import pandas as pd\n",
        "import seaborn as sns\n",
        "\n",
        "from sklearn import datasets\n",
        "from sklearn import manifold\n",
        "\n",
        "%matplotlib inline"
      ]
    },
    {
      "cell_type": "code",
      "execution_count": 2,
      "metadata": {},
      "outputs": [],
      "source": [
        "data = datasets.fetch_openml(\n",
        "                'mnist_784',\n",
        "                version=1,\n",
        "                return_X_y=True\n",
        ")\n",
        "pixel_values, targets = data\n",
        "targets = targets.astype(int)"
      ]
    },
    {
      "cell_type": "code",
      "execution_count": 4,
      "metadata": {},
      "outputs": [
        {
          "data": {
            "text/plain": [
              "<matplotlib.image.AxesImage at 0x7e4d8b0877c0>"
            ]
          },
          "execution_count": 4,
          "metadata": {},
          "output_type": "execute_result"
        },
        {
          "data": {
            "image/png": "[encoded data removed]",
            "text/plain": [
              "<Figure size 640x480 with 1 Axes>"
            ]
          },
          "metadata": {},
          "output_type": "display_data"
        }
      ],
      "source": [
        "single_image = pixel_values.to_numpy()[1, :].reshape(28, 28)\n",
        "plt.imshow(single_image, cmap='gray')\n"
      ]
    },
    {
      "cell_type": "code",
      "execution_count": null,
      "metadata": {},
      "outputs": [],
      "source": [
        "tsne = manifold.TSNE(n_components=2, random_state=42)\n",
        "transformed_data = tsne.fit_transform(pixel_values[:3000, :])"
      ]
    },
    {
      "cell_type": "markdown",
      "metadata": {},
      "source": [
        "# Developing Models for Production"
      ]
    },
    {
      "cell_type": "markdown",
      "metadata": {},
      "source": [
        "## Implementing expewriment tracking using MLflow"
      ]
    },
    {
      "cell_type": "code",
      "execution_count": null,
      "metadata": {},
      "outputs": [],
      "source": [
        "import mlflow\n",
        "import mlflow.sklearn\n",
        "from sklearn.linear_model import LogisticRegression\n",
        "from sklearn.metrics import accuracy_score\n",
        "\n",
        "# create a machine learning model\n",
        "model = LogisticRegression()\n",
        "\n",
        "# Start with an MLflow run context\n",
        "with mlflow.start_run() as run:\n",
        "    # Log parameteres\n",
        "    mlflow.log_param(\"model_algo\", \"LogisticRegression\")\n",
        "    mlflow.log_param(\"C\", 1.0)\n",
        "\n",
        "    # Train and test the model\n",
        "    model.fit(X_train, y_train)\n",
        "    y_pred = model.predict(X_test)\n",
        "    accuracy = accuracy_score(y_tests, y_pred)\n",
        "\n",
        "    # Log the model and its metrics \n",
        "    mlflow.log_metric(\"accuracy\", accuracy)\n",
        "    mlflow.sklearn.log_model(model, \"model\")"
      ]
    },
    {
      "cell_type": "markdown",
      "metadata": {},
      "source": [
        "## Model downloading with MLFlow"
      ]
    },
    {
      "cell_type": "code",
      "execution_count": null,
      "metadata": {},
      "outputs": [],
      "source": [
        "from mlflow.store.artifact.models_artifact_repo import ModelsArtifactRepository\n",
        "from mlflow.tracking import MlflowClient\n",
        "\n",
        "client = MlflowClient()\n",
        "my_model = client.download_artifacts(\n",
        "    \"5de5f68r6568f64656f85466f48656f\", path=\"model\")\n",
        "print(f\"Placed model in: {my_model}\")"
      ]
    },
    {
      "cell_type": "markdown",
      "metadata": {},
      "source": [
        "## Model searching with MLflow"
      ]
    },
    {
      "cell_type": "code",
      "execution_count": null,
      "metadata": {},
      "outputs": [],
      "source": [
        "from pprint import pprint\n",
        "from mlflow.tracking import MlflowClient\n",
        "\n",
        "client = MlflowClient()\n",
        "for rm in client.list_registered_models():\n",
        "    pprint(dict(rm), indent=4)"
      ]
    },
    {
      "cell_type": "markdown",
      "metadata": {},
      "source": [
        "## Comparing ML jobs using MLflow"
      ]
    },
    {
      "cell_type": "code",
      "execution_count": null,
      "metadata": {},
      "outputs": [],
      "source": [
        "import mlflow\n",
        "\n",
        "# Get the runs by ID\n",
        "run1 = mlflow.get_run(run_id=\"run_id_1\")\n",
        "run2 = mlflow.get_run(run_id=\"run_id_2\")\n",
        "\n",
        "#Compare metrics\n",
        "metric_name = \"accuracy\"\n",
        "metric1 = run1.data.metrics[metric_name]\n",
        "metric2 = run2.data.metrics[metric_name]\n",
        "\n",
        "print(f\"Comparison of {metric_name}\")\n",
        "print(f\"Run 1: {metric1}\")\n",
        "print(f\"Run 2: {metric2}\")"
      ]
    },
    {
      "cell_type": "markdown",
      "metadata": {},
      "source": [
        "## Hyperparameter tuning"
      ]
    },
    {
      "cell_type": "code",
      "execution_count": null,
      "metadata": {},
      "outputs": [],
      "source": [
        "hp_tuning_run = project.run_function(\n",
        "    \"trainer\",\n",
        "    inputs={\"datasets\": gen_dataa_run.outputs[\"dataset\"]},\n",
        "    hyperparams={\n",
        "        \"n_estimators\": [100,500,1000],\n",
        "        \"max_depth\": [5,15,30]\n",
        "    },\n",
        "    selector=\"max.accuracy\"\n",
        ")"
      ]
    },
    {
      "cell_type": "markdown",
      "metadata": {},
      "source": [
        "## Auto Logging"
      ]
    },
    {
      "cell_type": "code",
      "execution_count": null,
      "metadata": {},
      "outputs": [],
      "source": [
        "# Using MLflow\n",
        "import mlflow\n",
        "from sklearn.ensemble import RandomForestRegressor\n",
        "\n",
        "mlflow.autolog()\n",
        "\n",
        "rf = RandomForestRegressor()\n",
        "rf.fit(X_train, y_train)\n",
        "rf.predict(X_test)\n",
        "print(mlflow.active_run().data.metrics) # logged automatically"
      ]
    },
    {
      "cell_type": "code",
      "execution_count": null,
      "metadata": {},
      "outputs": [],
      "source": [
        "# using sagemaker\n",
        "# Train model using sagemaker SDK\n",
        "\n",
        "import sagemaker\n",
        "\n",
        "ml = sagemaker.estimator.Estimator()\n",
        "\n",
        "# sagemaker automatically enables Debugger\n",
        "ml.fit(data)\n",
        "\n",
        "# View logs\n",
        "ml.debugger_rules_analysis.load_analytics()"
      ]
    },
    {
      "cell_type": "code",
      "execution_count": null,
      "metadata": {},
      "outputs": [],
      "source": [
        "# Auto-logging in pythoin using MLFLow\n",
        "import mlflow\n",
        "\n",
        "from sklearn.model_selection import train_test_split\n",
        "from sklearn.datasets import load_diabetes\n",
        "from sklearn.ensemble import RandomForestRegressor\n",
        "\n",
        "mlflow.autolog()\n",
        "\n",
        "db = load_diabetes()\n",
        "X_train, X_test, y_train, y_test = train_test_split(db.data, db.target)\n",
        "\n",
        "# Create and train models\n",
        "rf = RandomForestRegressor(n_estimators=100, max_depth=6, max_features=3)\n",
        "rf.fit(X_train, y_train)\n",
        "\n",
        "# USe the model to make predictions on the test dataset\n",
        "predictions = rf.predict(X_test)\n",
        "autolog_run = mlflow.last_active_run()"
      ]
    },
    {
      "cell_type": "markdown",
      "metadata": {},
      "source": [
        "# Github Actions with Azure Machine Learning Studio"
      ]
    },
    {
      "cell_type": "code",
      "execution_count": null,
      "metadata": {},
      "outputs": [],
      "source": [
        "az account show --query id -o tsv"
      ]
    },
    {
      "cell_type": "code",
      "execution_count": null,
      "metadata": {},
      "outputs": [],
      "source": [
        "az ad sp create-for-rbac --sdk-auth --name \"github-actions\" \\\n",
        "    --role contributor --scopes /subscriptions/$AZURE_SUBSCRIPTION_ID"
      ]
    },
    {
      "cell_type": "markdown",
      "metadata": {},
      "source": [
        "### Authenticating to azure"
      ]
    },
    {
      "cell_type": "code",
      "execution_count": null,
      "metadata": {},
      "outputs": [],
      "source": [
        "- uses: azure/login@v1\n",
        "  with:\n",
        "    creds: ${{ secrets.AZURE_CREDENTIALS }}"
      ]
    },
    {
      "cell_type": "code",
      "execution_count": null,
      "metadata": {},
      "outputs": [],
      "source": [
        "- name: set auto-install of extensions\n",
        "  run: az config set extension.use_dynamic_instal=yes_without_prompt\n"
      ]
    },
    {
      "cell_type": "code",
      "execution_count": null,
      "metadata": {},
      "outputs": [],
      "source": [
        "- name: attach workpace\n",
        "  run: az ml folder attach -w \"workspace-name\" -g \"workspace-group\""
      ]
    },
    {
      "cell_type": "code",
      "execution_count": null,
      "metadata": {},
      "outputs": [],
      "source": []
    }
  ],
  "metadata": {
    "colab": {
      "provenance": []
    },
    "kernelspec": {
      "display_name": "env (3.10.12)",
      "language": "python",
      "name": "python3"
    },
    "language_info": {
      "codemirror_mode": {
        "name": "ipython",
        "version": 3
      },
      "file_extension": ".py",
      "mimetype": "text/x-python",
      "name": "python",
      "nbconvert_exporter": "python",
      "pygments_lexer": "ipython3",
      "version": "3.10.12"
    }
  },
  "nbformat": 4,
  "nbformat_minor": 0
}
