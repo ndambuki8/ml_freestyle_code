{
  "cells": [
    {
      "cell_type": "code",
      "execution_count": 1,
      "metadata": {},
      "outputs": [
        {
          "name": "stdout",
          "output_type": "stream",
          "text": [
            "Hello worldds\n"
          ]
        }
      ],
      "source": [
        "print(\"Hello worldds\")"
      ]
    },
    {
      "cell_type": "code",
      "execution_count": null,
      "metadata": {},
      "outputs": [],
      "source": [
        "https://www.youtube.com/watch?v=oLUrXDFiJAc"
      ]
    },
    {
      "cell_type": "markdown",
      "metadata": {},
      "source": [
        "# How do LLMs learn while predicting the next token?"
      ]
    },
    {
      "cell_type": "markdown",
      "metadata": {},
      "source": [
        "## The Deceptive Simplicity of Next-Token Prediction"
      ]
    },
    {
      "cell_type": "markdown",
      "metadata": {},
      "source": [
        "## The MMechanics of Token Prediction - minimal implementation of the Transformer Language model"
      ]
    },
    {
      "cell_type": "code",
      "execution_count": null,
      "metadata": {},
      "outputs": [],
      "source": [
        "import torch\n",
        "import torch.nn as nn\n",
        "import torch.nn.functional as F\n",
        "import math\n",
        "import numpy as np \n",
        "from torch.utils.data import Dataset, DataLoader\n",
        "\n",
        "class PositionalEncoding(nn.Module):\n",
        "    def __init__(self, d_model, max_len=5000):\n",
        "        super().__init__()\n",
        "\n",
        "        # Create position encodings once and for all\n",
        "        position = torch.arange(max_len).unsqueeze(1)\n",
        "        div_term = torch.exp(torch.arange(0, d_model, 2) * (-math.log(10000.0) / d_model))\n",
        "        pe = torch.zeros(max_len, d_model)\n",
        "        pe[:, 0::2] = torch.sin(position * div_term)\n",
        "        pe[:, 1::2] = torch.cos(position * div_term)\n",
        "        self.register_buffer('pe', pe)\n",
        "\n",
        "    def forward(self, x):\n",
        "        # x has shape [seq_len,, batch_size, embedding_dim]\n",
        "        return x + self.pe[:x.size(0), :]\n",
        "    \n",
        "class TransformerLM(nn.Module):\n",
        "    def __init__(self, vocab_size, d_model=512, nhead=8, num_layers=6, dim_feedforward=2048, droupout=0.1):\n",
        "        super().__init__()\n",
        "        self.model_type = 'Transformer'\n",
        "        self.d_model = d_model\n",
        "\n",
        "        self.embedding = nn.Embedding(vocab_size, d_model)\n",
        "        self.pos_encoder = PositionalEncoding(d_model)\n",
        "\n",
        "        # Create a standard transformer encoder \n",
        "        encoder_layers = nn.TransformerEncoderLayer(d_model, nhead, dim_feedforward, droupout)\n",
        "        self.transformer_encoder = nn.TransformerEncoder(encoder_layers, num_layers)\n",
        "\n",
        "        # Final layer to predict token probabilities \n",
        "        self.output_layer = nn.Linear(d_model, vocab_size)\n",
        "\n",
        "        self.init_weights()\n",
        "\n",
        "    def init_weights(self):\n",
        "        initrange =  0.1\n",
        "        self.embedding.weight.data.uniform_(-initrange, initrange)\n",
        "        self.output_layer.bias.data.zero_(-initrange, initrange)\n",
        "\n",
        "    def forward(Self, src, src_mask=None):\n",
        "        # src shape: [seq_len, batch_size]\n",
        "\n",
        "        # Create embeddings \n",
        "        src = self.embedding(src) * math.sqrt(self.d_model)\n",
        "        src = self.pos_encoder(src)\n",
        "\n",
        "        # Pass through transformer \n",
        "        if src_mask is None:\n",
        "            # Create a causal mask to prevent attending to future tokens\n",
        "            src_mask = nn.Transformer.generate_square_subsequent_mask(src.size(0))\n",
        "            src_mask = src_mask.to(src.device)\n",
        "\n",
        "        output =  self.transformer_encoder(src, src_mask)\n",
        "\n",
        "        # Project to vocabulary distribution\n",
        "        output = self.output_layer(output)\n",
        "\n",
        "        return output"
      ]
    },
    {
      "cell_type": "markdown",
      "metadata": {},
      "source": [
        "### The learning process, implementing the training loop - Maximizing log-likelihood, HHow does the LLM actually \"learn\""
      ]
    },
    {
      "cell_type": "code",
      "execution_count": null,
      "metadata": {},
      "outputs": [],
      "source": [
        "def train_transformer_lm(model, data_loader, optimizer,  criterion, device, clip_grad=1.0):\n",
        "    model.train()\n",
        "    total_loss = 0.\n",
        "    for batch_idx, (data, targets) in enumerate(data_loader):\n",
        "        data, ttargets = data.to(device), targets.to(device)\n",
        "\n",
        "        # Zero gradients from previous iteration \n",
        "        optimizer.zero_grad()\n",
        "\n",
        "        # Forward pass \n",
        "        output  = model(data)\n",
        "\n",
        "        # Reshape for loss computation \n",
        "        output = output.view(-1, output.size(-1))\n",
        "        targets = targets.vieww(-1)\n",
        "\n",
        "        # compute loss (negative, log-likelihood)\n",
        "        loss = criterion(output, targets)\n",
        "\n",
        "        # Backward pass \n",
        "        loss.backward()\n",
        "\n",
        "        # Clip gradients to prevent exploding gradients \n",
        "        torch.nn.utils.clilp_grad_norm_(model.parameters(), clip_grad)\n",
        "\n",
        "        # Update weights \n",
        "        optimizer.step()\n",
        "\n",
        "        total_loss += loss.item()\n",
        "\n",
        "        if batch_idx % 200 == 0:\n",
        "            print(f\"Batch {batch_idx}, Loss: {loss.item():.4f}\")\n",
        "\n",
        "    return total_loss / len(data_loader)"
      ]
    },
    {
      "cell_type": "markdown",
      "metadata": {},
      "source": [
        "### Emergent capabilities: Beyond Next-Token Prediction"
      ]
    },
    {
      "cell_type": "code",
      "execution_count": null,
      "metadata": {},
      "outputs": [],
      "source": [
        "def generate_text(model, start_sequence, max_new_tokens=50, temperature=1.0):\n",
        "    \"\"\"Generate text from the model, starting from the given sequence.\"\"\"\n",
        "    model.eval()\n",
        "\n",
        "    input_ids = torch.tensor(start_sequence, dtype=torch.long).unsqueeze(0)\n",
        "    generated_tokens = []\n",
        "\n",
        "    for _ in range(max_new_tokens):\n",
        "        # Prevent attending to future tokens\n",
        "        attn_mask = torch.tril(torch.ones((input_ids.size(1), input_ids.size(1))))\n",
        "\n",
        "        # Forward pass \n",
        "        with torch.no_grad():\n",
        "            outputs = model(input_ids, attn_mask)\n",
        "            next_token_logits = outputs[0, -1, :]\n",
        "\n",
        "            # Apply temperature sampling\n",
        "            if temperature > 0:\n",
        "                next_token_logits = next_token_logits / temperature\n",
        "\n",
        "            # Sample from the distribution \n",
        "            probs = F.softmax(next_token_logits, dim=-1)\n",
        "            next_token = torch.multinomial(probs, num_samples=1).item()\n",
        "\n",
        "            generated_tokens.append(next_token)\n",
        "\n",
        "            # Append the preducted token to input for next iteration\n",
        "            input_ids = torch.cat([input_ids, torch.tensor([[next_token]])], dim=1)\n",
        "    return generated_tokens\n",
        "    \n",
        "def analyze_activation_patterns(model, input_text, layer_idx= -1):\n",
        "    \"\"\"Analyze the internal activation patters for the given input.\"\"\"\n",
        "    model.eval()\n",
        "    input_ids = torch.tensor(input_text, dtype=torch.long).unsqueeze(0)\n",
        "\n",
        "    # Register hook to get activations \n",
        "    activations = {}\n",
        "    def get_activation(name):\n",
        "        def hook(model, input, output):\n",
        "            activations[name] = output.detach()\n",
        "        return hook\n",
        "    \n",
        "    # Attach hook to the specified transformer layer\n",
        "    model.transformer_encoder.layers[layer_idx].register_forward_hook(\n",
        "        get_activation(f'transformer_layer_{layer_idx}')\n",
        "    )\n",
        "\n",
        "    # Forward pass \n",
        "    with torch.no_grad():\n",
        "        model(input_ids)\n",
        "\n",
        "    # Analyze the activations (e.g compute principal components, clusters, etc.)\n",
        "    layer_activations = activations[f'transformer_layer_{layer_idx}']\n",
        "\n",
        "    # Compute PCA for visualization (Example)\n",
        "\n",
        "    from sklearn.decomposition import PCA\n",
        "    pca = PCA(n_components=2)\n",
        "    activation_2d = pca.fit_transform(layer_activations.squeeze(1).numpy())\n",
        "\n",
        "    return activation_2d"
      ]
    },
    {
      "cell_type": "markdown",
      "metadata": {},
      "source": [
        "### Information Compression and Internal Representations\n"
      ]
    },
    {
      "cell_type": "code",
      "execution_count": null,
      "metadata": {},
      "outputs": [],
      "source": [
        "def compute_mutual_information(model, dataset, num_samples=1000):"
      ]
    }
  ],
  "metadata": {
    "colab": {
      "provenance": []
    },
    "kernelspec": {
      "display_name": "env (3.10.12)",
      "language": "python",
      "name": "python3"
    },
    "language_info": {
      "codemirror_mode": {
        "name": "ipython",
        "version": 3
      },
      "file_extension": ".py",
      "mimetype": "text/x-python",
      "name": "python",
      "nbconvert_exporter": "python",
      "pygments_lexer": "ipython3",
      "version": "3.10.12"
    }
  },
  "nbformat": 4,
  "nbformat_minor": 0
}
